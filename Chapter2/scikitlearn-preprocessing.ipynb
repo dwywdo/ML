{
 "cells": [
  {
   "cell_type": "markdown",
   "metadata": {},
   "source": [
    "#### 데이터 전처리\n",
    "---\n",
    "+ 사이킷런의 ML 알고리즘을 적용하기 전에 미리 처리해야 할 기본사항\n",
    "  1. 결손값(NaN, Null) 값은 허용되지 않는다.\n",
    "    - 이러한 Null값은 고정된 다른 값으로 변환해야 한다.\n",
    "    - 얼마 되지 않는다면, 피처의 평균값 등으로 대체할 수 있다.\n",
    "    - 하지만 Null값이 대부분이라면, 오히려 해당 피처는 드롭하는 것이 좋다\n",
    "    - 정확히 몇퍼센트 까지를 일정 수준 이상이라고 한다는 기준은 없다. 하지만, 해당 피처가 중요도가 높고 Null을 단순히 피처의 평균값으로 대체할 경우 예측 왜곡이 심할 수 있다면 더 정밀한 대체값을 선정해야 한다.\n",
    "  2. 사이킷런의 머신러닝 알고리즘은 문자열 값은 입력 값으로 허용하지 않는다.\n",
    "    - 모든 문자열 값은 인코딩돼서 숫자 형으로 변환해야 한다.\n",
    "    - 문자열 피처는 주로 카테고리형 피처와 텍스트형 피처가 있다.\n",
    "    - 카테고리형 피처는 코드 값으로 표현하는게 낫다\n",
    "    - 텍스트형 피처는 피처 벡터화(Feature vectorization) 등의 기법으로 벡터화하거나 불필요한 피처라고 판단되면 삭제하는 것이 좋다\n",
    "    - 특히, 주민번호나 단순 문자열 아이디와 같은 경우 단순 데이터 로우 식별로만 사용되기 때문에, 그냥 삭제하는 것이 좋다\n",
    "  "
   ]
  },
  {
   "cell_type": "markdown",
   "metadata": {},
   "source": [
    "+ 머신러닝을 위한 대표적인 인코딩 방식 1\n",
    "  - 레이블 인코딩\n",
    "    - 카테고리형 피처를 코드형 숫자 값으로 변환하는 것.\n",
    "    - TV, 냉장고, 전자레인지, 컴퓨터, 선풍기, 믹서라는 값으로 되어있다면\n",
    "    - TV:1, 냉장고:2, 전자레인지:3, .. 와 같이 숫자형 값으로 변환하는 것\n",
    "    - '01', '02'와 같은 코드 값 역시 문자열이므로 1, 2와 같은 숫자형 값으로 변환해야 한다"
   ]
  },
  {
   "cell_type": "code",
   "execution_count": 7,
   "metadata": {},
   "outputs": [
    {
     "name": "stdout",
     "output_type": "stream",
     "text": [
      "인코딩 변환값: [0 1 4 5 3 3 2 2]\n"
     ]
    }
   ],
   "source": [
    "from sklearn.preprocessing import LabelEncoder\n",
    "\n",
    "items = ['TV', '냉장고', '전자레인지', '컴퓨터', '선풍기', '선풍기', '믹서', '믹서']\n",
    "\n",
    "# LabelEncoder를 객체로 생성한 후, fit()과 transform()으로 레이블 인코딩 수행\n",
    "\n",
    "encoder = LabelEncoder()\n",
    "encoder.fit(items)\n",
    "labels = encoder.transform(items)\n",
    "print('인코딩 변환값:', labels)"
   ]
  },
  {
   "cell_type": "code",
   "execution_count": 8,
   "metadata": {},
   "outputs": [
    {
     "name": "stdout",
     "output_type": "stream",
     "text": [
      "인코딩 클래스: ['TV' '냉장고' '믹서' '선풍기' '전자레인지' '컴퓨터']\n"
     ]
    }
   ],
   "source": [
    "print('인코딩 클래스:', encoder.classes_)"
   ]
  },
  {
   "cell_type": "code",
   "execution_count": 9,
   "metadata": {},
   "outputs": [
    {
     "name": "stdout",
     "output_type": "stream",
     "text": [
      "디코딩 원본값: ['전자레인지' '컴퓨터' '믹서' 'TV' '냉장고' '냉장고' '선풍기' '선풍기']\n"
     ]
    }
   ],
   "source": [
    "print('디코딩 원본값:', encoder.inverse_transform([4, 5, 2, 0, 1, 1, 3, 3]))"
   ]
  },
  {
   "cell_type": "markdown",
   "metadata": {},
   "source": [
    "+ 레이블 인코딩은 간단하게 문자열 값을 숫자형 카테고리 값으로 변환한다.\n",
    "+ 일괄적인 숫자값으로 변환되면 몇몇 ML 알고리즘에는 예측 성능이 떨어질 수 있다\n",
    "  - 숫자 값의 경우 크고 작음에 대한 특성이 작용하기 때문이다\n",
    "  - 따라서, 레이블 인코딩은 선형 회귀와 같은 ML 알고리즘에는 적용되지 않아야 한다."
   ]
  },
  {
   "cell_type": "markdown",
   "metadata": {},
   "source": [
    "+ 머신러닝을 위한 대표적인 인코딩 방식 2\n",
    "  - 원-핫(One-Hot) 인코딩\n",
    "    - 피처 값의 유형에 따라 새로운 피처를 추가해 고유 값에 해당하는 컬럼에만 1을 표시하고 나머지에는 0을 표시하는 방식\n",
    "    - 행 형태로 되어있는 피처의 고유값을 열 형태로 차원을 변환한 뒤, 고유 값에 해당하는 컬럼에만 1을 표시하고 나머지에는 0을 표시한다.\n",
    "    "
   ]
  },
  {
   "cell_type": "code",
   "execution_count": 10,
   "metadata": {},
   "outputs": [
    {
     "name": "stdout",
     "output_type": "stream",
     "text": [
      "원-핫 인코딩 데이터\n",
      "[[1. 0. 0. 0. 0. 0.]\n",
      " [0. 1. 0. 0. 0. 0.]\n",
      " [0. 0. 0. 0. 1. 0.]\n",
      " [0. 0. 0. 0. 0. 1.]\n",
      " [0. 0. 0. 1. 0. 0.]\n",
      " [0. 0. 0. 1. 0. 0.]\n",
      " [0. 0. 1. 0. 0. 0.]\n",
      " [0. 0. 1. 0. 0. 0.]]\n",
      "원-핫 인코딩 데이터 차원\n",
      "(8, 6)\n"
     ]
    }
   ],
   "source": [
    "from sklearn.preprocessing import OneHotEncoder\n",
    "import numpy as np\n",
    "\n",
    "items = ['TV', '냉장고', '전자레인지', '컴퓨터', '선풍기', '선풍기', '믹서', '믹서']\n",
    "# 숫자값 변환 후 2차원 변환 \n",
    "encoder = LabelEncoder()\n",
    "encoder.fit(items)\n",
    "labels = encoder.transform(items)\n",
    "labels = labels.reshape(-1, 1)\n",
    "\n",
    "# 원-핫 인코딩 적용\n",
    "oh_encoder = OneHotEncoder()\n",
    "oh_encoder.fit(labels)\n",
    "oh_labels = oh_encoder.transform(labels)\n",
    "print('원-핫 인코딩 데이터')\n",
    "print(oh_labels.toarray())\n",
    "print('원-핫 인코딩 데이터 차원')\n",
    "print(oh_labels.shape)"
   ]
  },
  {
   "cell_type": "markdown",
   "metadata": {},
   "source": [
    "+ 원본 데이터\n",
    "\n",
    "|상품분류|가격|\n",
    "|:---:|:--:|\n",
    "|TV|1000000|\n",
    "|냉장고|1500000|\n",
    "|전자렌지|200000|\n",
    "|컴퓨터|800000|\n",
    "|선풍기|100000|\n",
    "|선풍기|100000|\n",
    "|믹서|50000|\n",
    "|믹서|50000|\n",
    "\n",
    "+ 숫자로 인코딩\n",
    "\n",
    "|상품분류|가격|\n",
    "|:---:|:--:|\n",
    "|0|1000000|\n",
    "|1|1500000|\n",
    "|5|200000|\n",
    "|4|800000|\n",
    "|3|100000|\n",
    "|3|100000|\n",
    "|2|50000|\n",
    "|2|50000|\n",
    "\n",
    "+ 원-핫 인코딩된 데이터\n",
    "\n",
    "|TV|냉장고|믹서|선풍기|전자렌지|컴퓨터|가격|\n",
    "|--|:--:|:-:|:--:|:----:|:--:|:-:|\n",
    "|1|0|0|0|0|0|1000000|\n",
    "|0|1|0|0|0|0|1500000|\n",
    "|0|0|0|0|1|0|200000|\n",
    "|0|0|0|0|0|1|800000|\n",
    "|0|0|0|1|0|0|100000|\n",
    "|0|0|0|1|0|0|100000|\n",
    "|0|0|1|0|0|0|50000|\n",
    "|0|0|1|0|0|0|50000|\n",
    "\n",
    "+ 판다스에는 원-핫 인코딩을 더 쉽게 지원하는 get_dummies() API가 있다"
   ]
  },
  {
   "cell_type": "code",
   "execution_count": 11,
   "metadata": {},
   "outputs": [
    {
     "data": {
      "text/html": [
       "<div>\n",
       "<style scoped>\n",
       "    .dataframe tbody tr th:only-of-type {\n",
       "        vertical-align: middle;\n",
       "    }\n",
       "\n",
       "    .dataframe tbody tr th {\n",
       "        vertical-align: top;\n",
       "    }\n",
       "\n",
       "    .dataframe thead th {\n",
       "        text-align: right;\n",
       "    }\n",
       "</style>\n",
       "<table border=\"1\" class=\"dataframe\">\n",
       "  <thead>\n",
       "    <tr style=\"text-align: right;\">\n",
       "      <th></th>\n",
       "      <th>item_TV</th>\n",
       "      <th>item_냉장고</th>\n",
       "      <th>item_믹서</th>\n",
       "      <th>item_선풍기</th>\n",
       "      <th>item_전자레인지</th>\n",
       "      <th>item_컴퓨터</th>\n",
       "    </tr>\n",
       "  </thead>\n",
       "  <tbody>\n",
       "    <tr>\n",
       "      <th>0</th>\n",
       "      <td>1</td>\n",
       "      <td>0</td>\n",
       "      <td>0</td>\n",
       "      <td>0</td>\n",
       "      <td>0</td>\n",
       "      <td>0</td>\n",
       "    </tr>\n",
       "    <tr>\n",
       "      <th>1</th>\n",
       "      <td>0</td>\n",
       "      <td>1</td>\n",
       "      <td>0</td>\n",
       "      <td>0</td>\n",
       "      <td>0</td>\n",
       "      <td>0</td>\n",
       "    </tr>\n",
       "    <tr>\n",
       "      <th>2</th>\n",
       "      <td>0</td>\n",
       "      <td>0</td>\n",
       "      <td>0</td>\n",
       "      <td>0</td>\n",
       "      <td>1</td>\n",
       "      <td>0</td>\n",
       "    </tr>\n",
       "    <tr>\n",
       "      <th>3</th>\n",
       "      <td>0</td>\n",
       "      <td>0</td>\n",
       "      <td>0</td>\n",
       "      <td>0</td>\n",
       "      <td>0</td>\n",
       "      <td>1</td>\n",
       "    </tr>\n",
       "    <tr>\n",
       "      <th>4</th>\n",
       "      <td>0</td>\n",
       "      <td>0</td>\n",
       "      <td>0</td>\n",
       "      <td>1</td>\n",
       "      <td>0</td>\n",
       "      <td>0</td>\n",
       "    </tr>\n",
       "    <tr>\n",
       "      <th>5</th>\n",
       "      <td>0</td>\n",
       "      <td>0</td>\n",
       "      <td>0</td>\n",
       "      <td>1</td>\n",
       "      <td>0</td>\n",
       "      <td>0</td>\n",
       "    </tr>\n",
       "    <tr>\n",
       "      <th>6</th>\n",
       "      <td>0</td>\n",
       "      <td>0</td>\n",
       "      <td>1</td>\n",
       "      <td>0</td>\n",
       "      <td>0</td>\n",
       "      <td>0</td>\n",
       "    </tr>\n",
       "    <tr>\n",
       "      <th>7</th>\n",
       "      <td>0</td>\n",
       "      <td>0</td>\n",
       "      <td>1</td>\n",
       "      <td>0</td>\n",
       "      <td>0</td>\n",
       "      <td>0</td>\n",
       "    </tr>\n",
       "  </tbody>\n",
       "</table>\n",
       "</div>"
      ],
      "text/plain": [
       "   item_TV  item_냉장고  item_믹서  item_선풍기  item_전자레인지  item_컴퓨터\n",
       "0        1         0        0         0           0         0\n",
       "1        0         1        0         0           0         0\n",
       "2        0         0        0         0           1         0\n",
       "3        0         0        0         0           0         1\n",
       "4        0         0        0         1           0         0\n",
       "5        0         0        0         1           0         0\n",
       "6        0         0        1         0           0         0\n",
       "7        0         0        1         0           0         0"
      ]
     },
     "execution_count": 11,
     "metadata": {},
     "output_type": "execute_result"
    }
   ],
   "source": [
    "import pandas as pd\n",
    "df = pd.DataFrame({'item': ['TV', '냉장고', '전자레인지', '컴퓨터', '선풍기', '선풍기','믹서', '믹서']})\n",
    "pd.get_dummies(df)"
   ]
  },
  {
   "cell_type": "markdown",
   "metadata": {},
   "source": [
    "#### 피처 스케일링과 정규화\n",
    "---\n",
    "+ 서로 다른 변수의 값 범위를 일정한 수준으로 맞추는 작업\n",
    "+ 대표적으로 표준화와 정규화가 있다.\n",
    "+ 표준화\n",
    "  - 데이터의 피처 각각이 평균이 0이고 분산이 1인 가우시안 분포를 가진 값으로 변환하는 것\n",
    "  - 표준화를 통해 변환될 피처 x의 새로운 i번째 데이터를 ${xnew}_{i}$라고 한다면 이 값은 원래 피처에서 피처 x의 평균을 뺀 값을 피처 x의 표준편차로 나눈 값\n",
    "  - 즉, ${xnew}_{i} = \\frac{{x}_{i}-mean(x)}{stdev(x)}\\$\n",
    "\n",
    "+ 정규화\n",
    "  - 서로 다른 피처의 크기를 통일하기 위해 크기를 변환해주는 개념\n",
    "  - 예를 들어 피처 A는 거리를 나타내는 변수로 0에서 100KM까지 값이 주어지고, 피처 B는 금액을 나타내는 속성으로 값이 0에서 100,000,000,000원으로 주어진다면 이 변수를 모두 동일한 크기 단위로 비교하기 위해 최소0~최대1의 값으로 변환하는 것\n",
    "  - 새로운 데이터 ${xnew}_{i}$는 원래 값에서 피처 x의 최솟값을 뺀 값을 피처 x의 최댓값과 최솟값의 차이로 나눈 값\n",
    "  - 즉, ${xnew}_{i} = \\frac{{x}_{i}-min(x)}{max(x)-min(x)}\\$\n",
    "  \n",
    "  - 사이킷런의 전처리에서 제공하는 Normalizer 모듈과 일반적인 정규화는 차이가 있다.\n",
    "  - 선형대수에서의 정규화 개념이 적용되어, 개별 벡터의 크기를 맞추기 위해 변환하는 것을 의미한다.\n",
    "  - 즉, 개별 벡터를 모든 피처 벡터의 크기로 나누어주는 것\n",
    "  - 세개의 피처 x, y, z가 있다고 하면 새로운 데아터 ${xnew}_{i}$는 원래 값에서 세개의 피처의 i번째 값에 해당하는 크기를 합한 값으로 나누어줌\n",
    "  - 즉, ${xnew}_{i} = \\frac{{x}_{i}}{\\sqrt{x^2+y^2+z^2}}\\$\n",
    "  \n",
    "+ 일반적인 의미의 표준화와 정규화를 피처스케일링이라고 부르고, 선형대수 개념의 정규화를 벡터 정규화라고 하자\n",
    "\n",
    "+ 사이킷런에서 제공하는 대표적인 피처스케일링 클래스\n",
    "  - StandardScaler\n",
    "  - MinMaxScaler"
   ]
  },
  {
   "cell_type": "markdown",
   "metadata": {},
   "source": [
    "+ StandardScaler 클래스\n",
    "  - 표준화를 지원하기 위한 클래스\n",
    "  - 개별 피처를 평균이 0이고, 분산이 1인 값으로 변환 (가우시안 정규 분포를 갖도록)\n",
    "  - 사이킷런에서 구현한 RBF 커널을 이용하는 SVM(Support Vector Machine)이나 선형회귀, 로지스틱 회귀는 데이터가 가우시안 분포를 가지고 있다고 가정하고 구현됨\n",
    "  - 따라서, 사전에 표준화를 적용하는 것은 중요하다"
   ]
  },
  {
   "cell_type": "code",
   "execution_count": 14,
   "metadata": {},
   "outputs": [
    {
     "name": "stdout",
     "output_type": "stream",
     "text": [
      "## feature들의 평균 값\n",
      "sepal length (cm)    5.843333\n",
      "sepal width (cm)     3.057333\n",
      "petal length (cm)    3.758000\n",
      "petal width (cm)     1.199333\n",
      "dtype: float64\n",
      "\n",
      "## feature들의 분산 값\n",
      "sepal length (cm)    0.685694\n",
      "sepal width (cm)     0.189979\n",
      "petal length (cm)    3.116278\n",
      "petal width (cm)     0.581006\n",
      "dtype: float64\n"
     ]
    }
   ],
   "source": [
    "from sklearn.datasets import load_iris\n",
    "import pandas as pd\n",
    "\n",
    "iris = load_iris()\n",
    "iris_data = iris.data\n",
    "iris_df = pd.DataFrame(data=iris_data, columns=iris.feature_names)\n",
    "print('## feature들의 평균 값')\n",
    "print(iris_df.mean())\n",
    "print('\\n## feature들의 분산 값')\n",
    "print(iris_df.var())"
   ]
  },
  {
   "cell_type": "code",
   "execution_count": 15,
   "metadata": {},
   "outputs": [
    {
     "name": "stdout",
     "output_type": "stream",
     "text": [
      "## feature들의 평균 값\n",
      "sepal length (cm)   -1.690315e-15\n",
      "sepal width (cm)    -1.842970e-15\n",
      "petal length (cm)   -1.698641e-15\n",
      "petal width (cm)    -1.409243e-15\n",
      "dtype: float64\n",
      "\n",
      "## feature들의 분산 값\n",
      "sepal length (cm)    1.006711\n",
      "sepal width (cm)     1.006711\n",
      "petal length (cm)    1.006711\n",
      "petal width (cm)     1.006711\n",
      "dtype: float64\n"
     ]
    }
   ],
   "source": [
    "from sklearn.preprocessing import StandardScaler\n",
    "\n",
    "# StandardScaler 객체 생성\n",
    "scaler = StandardScaler()\n",
    "scaler.fit(iris_df)\n",
    "iris_scaled = scaler.transform(iris_df)\n",
    "\n",
    "# transform() 시 스케일 변환된 데이터 세트가 Numpy ndarray로 반환되기 때문에 이를 DF로 변환\n",
    "iris_df_scaled = pd.DataFrame(data=iris_scaled, columns=iris.feature_names)\n",
    "print('## feature들의 평균 값')\n",
    "print(iris_df_scaled.mean())\n",
    "print('\\n## feature들의 분산 값')\n",
    "print(iris_df_scaled.var())"
   ]
  },
  {
   "cell_type": "markdown",
   "metadata": {},
   "source": [
    "+ MinMaxScaler 클래스\n",
    "  + 데이터 값을 0과 1사이의 범위 값으로 변환 (음수값이 있으면 -1에서 1로 변환한다)\n",
    "  + 데이터의 분포가 가우시안 분포가 아닐 경우에 Min, Max Scale을 적용해볼 수 있다."
   ]
  },
  {
   "cell_type": "code",
   "execution_count": 16,
   "metadata": {},
   "outputs": [
    {
     "name": "stdout",
     "output_type": "stream",
     "text": [
      "## feature들의 최솟값\n",
      "sepal length (cm)    0.0\n",
      "sepal width (cm)     0.0\n",
      "petal length (cm)    0.0\n",
      "petal width (cm)     0.0\n",
      "dtype: float64\n",
      "\n",
      "## feature들의 최댓값\n",
      "sepal length (cm)    1.0\n",
      "sepal width (cm)     1.0\n",
      "petal length (cm)    1.0\n",
      "petal width (cm)     1.0\n",
      "dtype: float64\n"
     ]
    }
   ],
   "source": [
    "from sklearn.preprocessing import MinMaxScaler\n",
    "\n",
    "# MinMaxScaler 객체 생성\n",
    "scaler = MinMaxScaler()\n",
    "scaler.fit(iris_df)\n",
    "iris_scaled = scaler.transform(iris_df)\n",
    "\n",
    "iris_df_scaled = pd.DataFrame(data=iris_scaled, columns=iris.feature_names)\n",
    "print('## feature들의 최솟값')\n",
    "print(iris_df_scaled.min())\n",
    "print('\\n## feature들의 최댓값')\n",
    "print(iris_df_scaled.max())"
   ]
  },
  {
   "cell_type": "markdown",
   "metadata": {},
   "source": [
    "#### 학습 데이터와 테스트 데이터의 스케일링 변환 시 유의점\n",
    "---\n",
    "+ StandardScaler나 MinMaxScaler와 같은 스케일러 객체를 이용해 데이터스케일링시, fit(), transform(), fit_transform() 메소드를 이용한다.\n",
    "  + fit(): 데이터 변환을 위한 기준 정보(데이터 세트의 최댓값/최솟값) 적용\n",
    "  + transform(): 이렇게 설정된 정보를 이용해 데이터를 변환\n",
    "  + fit_transform(): fit() + transform()\n",
    "\n",
    "+ 스케일러 객체를 이용해 학습 데이터 세트로 fit()과 transform()을 적용하면 테스트 데이터 세트로는 다시 fit()을 수행하지 **않고,** 학습 데이터 세트로 fit()을 수행한 결과를 이용해 transform() 변환을 적용해야 한다\n",
    "+ 새로운 스케일링 기준 정보를 만들면, 학습-테스트 데이터의 스케일링 기준 정보가 서로 달라지기 때문에 올바른 예측결과를 도출하지 못할 수 있다.\n",
    "\n",
    "+ 테스트 데이터에 fit()을 적용할 때 발생하는 문제점을 보자"
   ]
  },
  {
   "cell_type": "code",
   "execution_count": 17,
   "metadata": {},
   "outputs": [
    {
     "name": "stdout",
     "output_type": "stream",
     "text": [
      "원본 train_array 데이터 [ 0  1  2  3  4  5  6  7  8  9 10]\n",
      "Scale된 train_array 데이터 [0.  0.1 0.2 0.3 0.4 0.5 0.6 0.7 0.8 0.9 1. ]\n"
     ]
    }
   ],
   "source": [
    "from sklearn.preprocessing import MinMaxScaler\n",
    "import numpy as np\n",
    "# 학습데이터는 0부터 10까지, 테스트 데이터는 0부터 5까지 값을 가지는 데이터 세트 생성\n",
    "# Scaler 클래스의 fit(), transform()은 2차원 이상 데이터만 가능하므로 reshape(-1, 1)으로 차원 변경\n",
    "train_array = np.arange(0, 11).reshape(-1, 1)\n",
    "test_array = np.arange(0, 6).reshape(-1, 1)\n",
    "\n",
    "scaler = MinMaxScaler()\n",
    "scaler.fit(train_array)\n",
    "\n",
    "train_scaled = scaler.transform(train_array)\n",
    "print('원본 train_array 데이터', np.round(train_array.reshape(-1), 2))\n",
    "print('Scale된 train_array 데이터', np.round(train_scaled.reshape(-1), 2))"
   ]
  },
  {
   "cell_type": "code",
   "execution_count": 18,
   "metadata": {},
   "outputs": [
    {
     "name": "stdout",
     "output_type": "stream",
     "text": [
      "원본 test_array 데이터 [0 1 2 3 4 5]\n",
      "Scale된 test_array 데이터 [0.  0.2 0.4 0.6 0.8 1. ]\n"
     ]
    }
   ],
   "source": [
    "scaler.fit(test_array)\n",
    "\n",
    "test_scaled = scaler.transform(test_array)\n",
    "print('원본 test_array 데이터', np.round(test_array.reshape(-1), 2))\n",
    "print('Scale된 test_array 데이터', np.round(test_scaled.reshape(-1), 2))"
   ]
  },
  {
   "cell_type": "markdown",
   "metadata": {},
   "source": [
    "+ 스케일링 기준이 통일되어 있지 않아 같은 데이터 값이 다른 데이터 값으로 변환된다.\n",
    "+ 반드시 테스트 데이터는 학습 데이터의 스케일링 기준에 따라야한다."
   ]
  },
  {
   "cell_type": "code",
   "execution_count": 19,
   "metadata": {},
   "outputs": [
    {
     "name": "stdout",
     "output_type": "stream",
     "text": [
      "원본 train_array 데이터 [ 0  1  2  3  4  5  6  7  8  9 10]\n",
      "Scale된 train_array 데이터 [0.  0.1 0.2 0.3 0.4 0.5 0.6 0.7 0.8 0.9 1. ]\n",
      "원본 test_array 데이터 [0 1 2 3 4 5]\n",
      "Scale된 test_array 데이터 [0.  0.1 0.2 0.3 0.4 0.5]\n"
     ]
    }
   ],
   "source": [
    "scaler = MinMaxScaler()\n",
    "scaler.fit(train_array)\n",
    "train_scaled = scaler.transform(train_array)\n",
    "print('원본 train_array 데이터', np.round(train_array.reshape(-1), 2))\n",
    "print('Scale된 train_array 데이터', np.round(train_scaled.reshape(-1), 2))\n",
    "test_scaled = scaler.transform(test_array)\n",
    "print('원본 test_array 데이터', np.round(test_array.reshape(-1), 2))\n",
    "print('Scale된 test_array 데이터', np.round(test_scaled.reshape(-1), 2))"
   ]
  },
  {
   "cell_type": "markdown",
   "metadata": {},
   "source": [
    "+ 따라서, 한번에 해주는 fit_transform()은 테스트 데이터에는 절대 사용해서는 안된다.\n",
    "    1. 가능하다면 전체 데이터의 스케일링 변환을 적용한 뒤 학습과 테스트 데이터로 분리\n",
    "    2. 1이 여의치 않다면 테스트 데이터 변환시에는 fit()이나 fit_transform()을 적용하지 않고 학습 데이터로 이미 fit된 Scaler 객체를 이용해 transform() 수행"
   ]
  }
 ],
 "metadata": {
  "kernelspec": {
   "display_name": "Python 3",
   "language": "python",
   "name": "python3"
  },
  "language_info": {
   "codemirror_mode": {
    "name": "ipython",
    "version": 3
   },
   "file_extension": ".py",
   "mimetype": "text/x-python",
   "name": "python",
   "nbconvert_exporter": "python",
   "pygments_lexer": "ipython3",
   "version": "3.7.6"
  }
 },
 "nbformat": 4,
 "nbformat_minor": 4
}
