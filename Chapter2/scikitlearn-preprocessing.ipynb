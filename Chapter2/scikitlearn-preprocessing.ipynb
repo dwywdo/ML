{
 "cells": [
  {
   "cell_type": "markdown",
   "metadata": {},
   "source": [
    "#### 데이터 전처리\n",
    "---\n",
    "+ 사이킷런의 ML 알고리즘을 적용하기 전에 미리 처리해야 할 기본사항\n",
    "  1. 결손값(NaN, Null) 값은 허용되지 않는다.\n",
    "    - 이러한 Null값은 고정된 다른 값으로 변환해야 한다.\n",
    "    - 얼마 되지 않는다면, 피처의 평균값 등으로 대체할 수 있다.\n",
    "    - 하지만 Null값이 대부분이라면, 오히려 해당 피처는 드롭하는 것이 좋다\n",
    "    - 정확히 몇퍼센트 까지를 일정 수준 이상이라고 한다는 기준은 없다. 하지만, 해당 피처가 중요도가 높고 Null을 단순히 피처의 평균값으로 대체할 경우 예측 왜곡이 심할 수 있다면 더 정밀한 대체값을 선정해야 한다.\n",
    "  2. 사이킷런의 머신러닝 알고리즘은 문자열 값은 입력 값으로 허용하지 않는다.\n",
    "    - 모든 문자열 값은 인코딩돼서 숫자 형으로 변환해야 한다.\n",
    "    - 문자열 핖처는 주로 카테고리형 피처와 텍스트형 피처가 있다.\n",
    "    - 카테고리형 피처는 코드 값으로 표현하는게 낫다\n",
    "    - 텍스트형 피처는 피처 벡터화(Feature vectorization) 등의 기법으로 벡터화하거나 불필요한 피처라고 판단되면 삭제하는 것이 좋다\n",
    "    - 특히, 주민번호나 단순 문자열 아이디와 같은 경우 단순 데이터 로우 식별로만 사용되기 때문에, 그냥 삭제하는 것이 좋다\n",
    "  "
   ]
  },
  {
   "cell_type": "markdown",
   "metadata": {},
   "source": [
    "+ 머신러닝을 위한 대표적인 인코딩 방식 1\n",
    "  - 레이블 인코딩\n",
    "    - 카테고리형 피처를 코드형 숫자 값으로 변환하는 것.\n",
    "    - TV, 냉장고, 전자레인지, 컴퓨터, 선풍기, 믹서라는 값으로 되어있다면\n",
    "    - TV:1, 냉장고:2, 전자레인지:3, .. 와 같이 숫자형 값으로 변환하는 것\n",
    "    - '01', '02'와 같은 코드 값 역시 문자열이므로 1, 2와 같은 숫자형 값으로 변환해야 한다"
   ]
  },
  {
   "cell_type": "code",
   "execution_count": 7,
   "metadata": {},
   "outputs": [
    {
     "name": "stdout",
     "output_type": "stream",
     "text": [
      "인코딩 변환값: [0 1 4 5 3 3 2 2]\n"
     ]
    }
   ],
   "source": [
    "from sklearn.preprocessing import LabelEncoder\n",
    "\n",
    "items = ['TV', '냉장고', '전자레인지', '컴퓨터', '선풍기', '선풍기', '믹서', '믹서']\n",
    "\n",
    "# LabelEncoder를 객체로 생성한 후, fit()과 transform()으로 레이블 인코딩 수행\n",
    "\n",
    "encoder = LabelEncoder()\n",
    "encoder.fit(items)\n",
    "labels = encoder.transform(items)\n",
    "print('인코딩 변환값:', labels)"
   ]
  },
  {
   "cell_type": "code",
   "execution_count": 8,
   "metadata": {},
   "outputs": [
    {
     "name": "stdout",
     "output_type": "stream",
     "text": [
      "인코딩 클래스: ['TV' '냉장고' '믹서' '선풍기' '전자레인지' '컴퓨터']\n"
     ]
    }
   ],
   "source": [
    "print('인코딩 클래스:', encoder.classes_)"
   ]
  },
  {
   "cell_type": "code",
   "execution_count": 9,
   "metadata": {},
   "outputs": [
    {
     "name": "stdout",
     "output_type": "stream",
     "text": [
      "디코딩 원본값: ['전자레인지' '컴퓨터' '믹서' 'TV' '냉장고' '냉장고' '선풍기' '선풍기']\n"
     ]
    }
   ],
   "source": [
    "print('디코딩 원본값:', encoder.inverse_transform([4, 5, 2, 0, 1, 1, 3, 3]))"
   ]
  },
  {
   "cell_type": "markdown",
   "metadata": {},
   "source": [
    "+ 레이블 인코딩은 간단하게 문자열 값을 숫자형 카테고리 값으로 변환한다.\n",
    "+ 일괄적인 숫자값으로 변환되면 몇몇 ML 알고리즘에는 예측 성능이 떨어질 수 있다\n",
    "  - 숫자 값의 경우 크고 작음에 대한 특성이 작용하기 때문이다\n",
    "  - 따라서, 레이블 인코딩은 선형 회귀와 같은 ML 알고리즘에는 적용되지 않아야 한다."
   ]
  },
  {
   "cell_type": "markdown",
   "metadata": {},
   "source": [
    "+ 머신러닝을 위한 대표적인 인코딩 방식 2\n",
    "  - 원-핫(One-Hot) 인코딩\n",
    "    - 피처 값의 유형에 따라 새로운 피처를 추가해 고유 값에 해당하는 컬럼에만 1을 표시하고 나머지에는 0을 표시하는 방식\n",
    "    - 행 형태로 되어있는 피처의 고유값을 열 형태로 차원을 변환한 뒤, 고유 값에 해당하는 컬럼에만 1을 표시하고 나머지에는 0을 표시한다.\n",
    "    "
   ]
  },
  {
   "cell_type": "code",
   "execution_count": 10,
   "metadata": {},
   "outputs": [
    {
     "name": "stdout",
     "output_type": "stream",
     "text": [
      "원-핫 인코딩 데이터\n",
      "[[1. 0. 0. 0. 0. 0.]\n",
      " [0. 1. 0. 0. 0. 0.]\n",
      " [0. 0. 0. 0. 1. 0.]\n",
      " [0. 0. 0. 0. 0. 1.]\n",
      " [0. 0. 0. 1. 0. 0.]\n",
      " [0. 0. 0. 1. 0. 0.]\n",
      " [0. 0. 1. 0. 0. 0.]\n",
      " [0. 0. 1. 0. 0. 0.]]\n",
      "원-핫 인코딩 데이터 차원\n",
      "(8, 6)\n"
     ]
    }
   ],
   "source": [
    "from sklearn.preprocessing import OneHotEncoder\n",
    "import numpy as np\n",
    "\n",
    "items = ['TV', '냉장고', '전자레인지', '컴퓨터', '선풍기', '선풍기', '믹서', '믹서']\n",
    "# 숫자값 변환 후 2차원 변환 \n",
    "encoder = LabelEncoder()\n",
    "encoder.fit(items)\n",
    "labels = encoder.transform(items)\n",
    "labels = labels.reshape(-1, 1)\n",
    "\n",
    "# 원-핫 인코딩 적용\n",
    "oh_encoder = OneHotEncoder()\n",
    "oh_encoder.fit(labels)\n",
    "oh_labels = oh_encoder.transform(labels)\n",
    "print('원-핫 인코딩 데이터')\n",
    "print(oh_labels.toarray())\n",
    "print('원-핫 인코딩 데이터 차원')\n",
    "print(oh_labels.shape)"
   ]
  },
  {
   "cell_type": "markdown",
   "metadata": {},
   "source": [
    "+ 원본 데이터\n",
    "\n",
    "|상품분류|가격|\n",
    "|:---:|:--:|\n",
    "|TV|1000000|\n",
    "|냉장고|1500000|\n",
    "|전자렌지|200000|\n",
    "|컴퓨터|800000|\n",
    "|선풍기|100000|\n",
    "|선풍기|100000|\n",
    "|믹서|50000|\n",
    "|믹서|50000|\n",
    "\n",
    "+ 숫자로 인코딩\n",
    "\n",
    "|상품분류|가격|\n",
    "|:---:|:--:|\n",
    "|0|1000000|\n",
    "|1|1500000|\n",
    "|5|200000|\n",
    "|4|800000|\n",
    "|3|100000|\n",
    "|3|100000|\n",
    "|2|50000|\n",
    "|2|50000|\n",
    "\n",
    "+ 원-핫 인코딩된 데이터\n",
    "\n",
    "|TV|냉장고|믹서|선풍기|전자렌지|컴퓨터|가격|\n",
    "|--|:--:|:-:|:--:|:----:|:--:|:-:|\n",
    "|1|0|0|0|0|0|1000000|\n",
    "|0|1|0|0|0|0|1500000|\n",
    "|0|0|0|0|1|0|200000|\n",
    "|0|0|0|0|0|1|800000|\n",
    "|0|0|0|1|0|0|100000|\n",
    "|0|0|0|1|0|0|100000|\n",
    "|0|0|1|0|0|0|50000|\n",
    "|0|0|1|0|0|0|50000|\n",
    "\n",
    "+ 판다스에는 원-핫 인코딩을 더 쉽게 지원하는 get_dummies() API가 있다"
   ]
  },
  {
   "cell_type": "code",
   "execution_count": 11,
   "metadata": {},
   "outputs": [
    {
     "data": {
      "text/html": [
       "<div>\n",
       "<style scoped>\n",
       "    .dataframe tbody tr th:only-of-type {\n",
       "        vertical-align: middle;\n",
       "    }\n",
       "\n",
       "    .dataframe tbody tr th {\n",
       "        vertical-align: top;\n",
       "    }\n",
       "\n",
       "    .dataframe thead th {\n",
       "        text-align: right;\n",
       "    }\n",
       "</style>\n",
       "<table border=\"1\" class=\"dataframe\">\n",
       "  <thead>\n",
       "    <tr style=\"text-align: right;\">\n",
       "      <th></th>\n",
       "      <th>item_TV</th>\n",
       "      <th>item_냉장고</th>\n",
       "      <th>item_믹서</th>\n",
       "      <th>item_선풍기</th>\n",
       "      <th>item_전자레인지</th>\n",
       "      <th>item_컴퓨터</th>\n",
       "    </tr>\n",
       "  </thead>\n",
       "  <tbody>\n",
       "    <tr>\n",
       "      <th>0</th>\n",
       "      <td>1</td>\n",
       "      <td>0</td>\n",
       "      <td>0</td>\n",
       "      <td>0</td>\n",
       "      <td>0</td>\n",
       "      <td>0</td>\n",
       "    </tr>\n",
       "    <tr>\n",
       "      <th>1</th>\n",
       "      <td>0</td>\n",
       "      <td>1</td>\n",
       "      <td>0</td>\n",
       "      <td>0</td>\n",
       "      <td>0</td>\n",
       "      <td>0</td>\n",
       "    </tr>\n",
       "    <tr>\n",
       "      <th>2</th>\n",
       "      <td>0</td>\n",
       "      <td>0</td>\n",
       "      <td>0</td>\n",
       "      <td>0</td>\n",
       "      <td>1</td>\n",
       "      <td>0</td>\n",
       "    </tr>\n",
       "    <tr>\n",
       "      <th>3</th>\n",
       "      <td>0</td>\n",
       "      <td>0</td>\n",
       "      <td>0</td>\n",
       "      <td>0</td>\n",
       "      <td>0</td>\n",
       "      <td>1</td>\n",
       "    </tr>\n",
       "    <tr>\n",
       "      <th>4</th>\n",
       "      <td>0</td>\n",
       "      <td>0</td>\n",
       "      <td>0</td>\n",
       "      <td>1</td>\n",
       "      <td>0</td>\n",
       "      <td>0</td>\n",
       "    </tr>\n",
       "    <tr>\n",
       "      <th>5</th>\n",
       "      <td>0</td>\n",
       "      <td>0</td>\n",
       "      <td>0</td>\n",
       "      <td>1</td>\n",
       "      <td>0</td>\n",
       "      <td>0</td>\n",
       "    </tr>\n",
       "    <tr>\n",
       "      <th>6</th>\n",
       "      <td>0</td>\n",
       "      <td>0</td>\n",
       "      <td>1</td>\n",
       "      <td>0</td>\n",
       "      <td>0</td>\n",
       "      <td>0</td>\n",
       "    </tr>\n",
       "    <tr>\n",
       "      <th>7</th>\n",
       "      <td>0</td>\n",
       "      <td>0</td>\n",
       "      <td>1</td>\n",
       "      <td>0</td>\n",
       "      <td>0</td>\n",
       "      <td>0</td>\n",
       "    </tr>\n",
       "  </tbody>\n",
       "</table>\n",
       "</div>"
      ],
      "text/plain": [
       "   item_TV  item_냉장고  item_믹서  item_선풍기  item_전자레인지  item_컴퓨터\n",
       "0        1         0        0         0           0         0\n",
       "1        0         1        0         0           0         0\n",
       "2        0         0        0         0           1         0\n",
       "3        0         0        0         0           0         1\n",
       "4        0         0        0         1           0         0\n",
       "5        0         0        0         1           0         0\n",
       "6        0         0        1         0           0         0\n",
       "7        0         0        1         0           0         0"
      ]
     },
     "execution_count": 11,
     "metadata": {},
     "output_type": "execute_result"
    }
   ],
   "source": [
    "import pandas as pd\n",
    "df = pd.DataFrame({'item': ['TV', '냉장고', '전자레인지', '컴퓨터', '선풍기', '선풍기','믹서', '믹서']})\n",
    "pd.get_dummies(df)"
   ]
  },
  {
   "cell_type": "markdown",
   "metadata": {},
   "source": [
    "#### 피처 스케일링과 정규화\n",
    "---\n",
    "+ 서로 다른 변수의 값 범위를 일정한 수준으로 맞추는 작업\n",
    "+ 대표적으로 표준화와 정규화가 있다.\n",
    "+ 표준화\n",
    "  - 데이터의 피처 각각이 평균이 0이고 분산이 1인 가우시안 분포를 가진 값으로 변환하는 것\n",
    "  - 표준화를 통해 변환될 피처 x의 새로운 i번째 데이터를 ${xnew}_{i}$라고 한다면 이 값은 원래 피처에서 피처 x의 평균을 뺀 값을 피처 x의 표준편차로 나눈 값\n",
    "  - 즉, ${xnew}_{i} = \\frac{{x}_{i}-mean(x)}{stdev(x)}\\$\n",
    "\n",
    "+ 정규화\n",
    "  - 서로 다른 피처의 크기를 통일하기 위해 크기를 변환해주는 개념\n",
    "  - 예를 들어 피처 A는 거리를 나타내는 변수로 0에서 100KM까지 값이 주어지고, 피처 B는 금액을 나타내는 속성으로 값이 0에서 100,000,000,000원으로 주어진다면 이 변수를 모두 동일한 크기 단위로 비교하기 위해 최소0~최대1의 값으로 변환하는 것\n",
    "  - 새로운 데이터 ${xnew}_{i}$는 원래 값에서 피처 x의 최솟값을 뺀 값을 피처 x의 최댓값과 최솟값의 차이로 나눈 값\n",
    "  - 즉, ${xnew}_{i} = \\frac{{x}_{i}-min(x)}{max(x)-min(x)}\\$"
   ]
  }
 ],
 "metadata": {
  "kernelspec": {
   "display_name": "Python 3",
   "language": "python",
   "name": "python3"
  },
  "language_info": {
   "codemirror_mode": {
    "name": "ipython",
    "version": 3
   },
   "file_extension": ".py",
   "mimetype": "text/x-python",
   "name": "python",
   "nbconvert_exporter": "python",
   "pygments_lexer": "ipython3",
   "version": "3.7.6"
  }
 },
 "nbformat": 4,
 "nbformat_minor": 4
}
